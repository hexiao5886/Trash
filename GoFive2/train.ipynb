{
 "cells": [
  {
   "cell_type": "code",
   "execution_count": null,
   "metadata": {},
   "outputs": [],
   "source": [
    "from env import Env\n",
    "\n",
    "from stable_baselines3 import A2C, ddpg, PPO, SAC, TD3\n",
    "\n",
    "env = Env(display=True)\n",
    "\n",
    "env.display = False\n",
    "model = PPO('MlpPolicy', env, verbose=1)\n",
    "model.learn(total_timesteps=1000)\n",
    "\n",
    "print(\"learning done.\")\n",
    "env.display = True                  # display when testing\n",
    "obs = env.reset()\n",
    "for i in range(100):\n",
    "  action, _state = model.predict(obs, deterministic=True)\n",
    "  print(i, action)\n",
    "  obs, reward, done, info = env.step((action))\n",
    "\n",
    "  if done:\n",
    "    obs = env.reset()\n"
   ]
  }
 ],
 "metadata": {
  "interpreter": {
   "hash": "31f2aee4e71d21fbe5cf8b01ff0e069b9275f58929596ceb00d14d90e3e16cd6"
  },
  "kernelspec": {
   "display_name": "Python 3.8.10 64-bit",
   "language": "python",
   "name": "python3"
  },
  "language_info": {
   "codemirror_mode": {
    "name": "ipython",
    "version": 3
   },
   "file_extension": ".py",
   "mimetype": "text/x-python",
   "name": "python",
   "nbconvert_exporter": "python",
   "pygments_lexer": "ipython3",
   "version": "3.7.11"
  },
  "orig_nbformat": 4
 },
 "nbformat": 4,
 "nbformat_minor": 2
}
